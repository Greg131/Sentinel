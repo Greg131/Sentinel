{
 "cells": [
  {
   "cell_type": "markdown",
   "metadata": {},
   "source": [
    "#  Sentinel - Fact-Checking Facebook Politics Pages — Analysis"
   ]
  },
  {
   "cell_type": "code",
   "execution_count": 1,
   "metadata": {
    "collapsed": true
   },
   "outputs": [],
   "source": [
    "# time\n",
    "import time\n",
    "from datetime import datetime, timedelta\n",
    "# load and save data \n",
    "import pickle\n",
    "import os\n",
    "from os.path import expanduser\n",
    "# manipulate data\n",
    "import pandas as pd\n",
    "import numpy as np\n",
    "# plot data\n",
    "%matplotlib inline\n",
    "import matplotlib.pyplot as plt\n",
    "# sklearn\n",
    "from sklearn.cross_validation import train_test_split\n",
    "#from sklearn.model_selection import cross_val_score\n",
    "\n",
    "from sklearn.cross_validation import cross_val_score\n",
    "from sklearn.preprocessing import StandardScaler\n",
    "\n",
    "from sklearn.linear_model import LinearRegression, Ridge, Lasso\n",
    "from sklearn.grid_search import GridSearchCV"
   ]
  },
  {
   "cell_type": "code",
   "execution_count": 2,
   "metadata": {
    "collapsed": true
   },
   "outputs": [],
   "source": [
    "posts = pd.read_csv(\"../data/facebook-fact-check.csv\")\n",
    "data = pd.read_csv(\"../data/Dataset13000+.csv\")"
   ]
  },
  {
   "cell_type": "markdown",
   "metadata": {},
   "source": [
    "# Data Exploration"
   ]
  },
  {
   "cell_type": "code",
   "execution_count": 3,
   "metadata": {},
   "outputs": [
    {
     "data": {
      "text/html": [
       "<div>\n",
       "<table border=\"1\" class=\"dataframe\">\n",
       "  <thead>\n",
       "    <tr style=\"text-align: right;\">\n",
       "      <th></th>\n",
       "      <th>account_id</th>\n",
       "      <th>post_id</th>\n",
       "      <th>Category</th>\n",
       "      <th>Page</th>\n",
       "      <th>Post URL</th>\n",
       "      <th>Date Published</th>\n",
       "      <th>Post Type</th>\n",
       "      <th>Rating</th>\n",
       "      <th>Debate</th>\n",
       "      <th>share_count</th>\n",
       "      <th>reaction_count</th>\n",
       "      <th>comment_count</th>\n",
       "    </tr>\n",
       "  </thead>\n",
       "  <tbody>\n",
       "    <tr>\n",
       "      <th>0</th>\n",
       "      <td>184096565021911</td>\n",
       "      <td>1035057923259100</td>\n",
       "      <td>mainstream</td>\n",
       "      <td>ABC News Politics</td>\n",
       "      <td>https://www.facebook.com/ABCNewsPolitics/posts...</td>\n",
       "      <td>2016-09-19</td>\n",
       "      <td>video</td>\n",
       "      <td>no factual content</td>\n",
       "      <td>NaN</td>\n",
       "      <td>NaN</td>\n",
       "      <td>146.0</td>\n",
       "      <td>15.0</td>\n",
       "    </tr>\n",
       "    <tr>\n",
       "      <th>1</th>\n",
       "      <td>184096565021911</td>\n",
       "      <td>1035269309904628</td>\n",
       "      <td>mainstream</td>\n",
       "      <td>ABC News Politics</td>\n",
       "      <td>https://www.facebook.com/ABCNewsPolitics/posts...</td>\n",
       "      <td>2016-09-19</td>\n",
       "      <td>link</td>\n",
       "      <td>mostly true</td>\n",
       "      <td>NaN</td>\n",
       "      <td>1.0</td>\n",
       "      <td>33.0</td>\n",
       "      <td>34.0</td>\n",
       "    </tr>\n",
       "  </tbody>\n",
       "</table>\n",
       "</div>"
      ],
      "text/plain": [
       "        account_id           post_id    Category               Page  \\\n",
       "0  184096565021911  1035057923259100  mainstream  ABC News Politics   \n",
       "1  184096565021911  1035269309904628  mainstream  ABC News Politics   \n",
       "\n",
       "                                            Post URL Date Published Post Type  \\\n",
       "0  https://www.facebook.com/ABCNewsPolitics/posts...     2016-09-19     video   \n",
       "1  https://www.facebook.com/ABCNewsPolitics/posts...     2016-09-19      link   \n",
       "\n",
       "               Rating Debate  share_count  reaction_count  comment_count  \n",
       "0  no factual content    NaN          NaN           146.0           15.0  \n",
       "1         mostly true    NaN          1.0            33.0           34.0  "
      ]
     },
     "execution_count": 3,
     "metadata": {},
     "output_type": "execute_result"
    }
   ],
   "source": [
    "posts.head(2)"
   ]
  },
  {
   "cell_type": "code",
   "execution_count": 4,
   "metadata": {},
   "outputs": [
    {
     "data": {
      "text/plain": [
       "(2282, 12)"
      ]
     },
     "execution_count": 4,
     "metadata": {},
     "output_type": "execute_result"
    }
   ],
   "source": [
    "posts.shape"
   ]
  },
  {
   "cell_type": "code",
   "execution_count": 5,
   "metadata": {},
   "outputs": [
    {
     "data": {
      "text/plain": [
       "Index([u'account_id', u'post_id', u'Category', u'Page', u'Post URL',\n",
       "       u'Date Published', u'Post Type', u'Rating', u'Debate', u'share_count',\n",
       "       u'reaction_count', u'comment_count'],\n",
       "      dtype='object')"
      ]
     },
     "execution_count": 5,
     "metadata": {},
     "output_type": "execute_result"
    }
   ],
   "source": [
    "posts.columns"
   ]
  },
  {
   "cell_type": "code",
   "execution_count": 6,
   "metadata": {},
   "outputs": [
    {
     "data": {
      "text/html": [
       "<div>\n",
       "<table border=\"1\" class=\"dataframe\">\n",
       "  <thead>\n",
       "    <tr style=\"text-align: right;\">\n",
       "      <th></th>\n",
       "      <th>type</th>\n",
       "      <th>caps_text</th>\n",
       "      <th>text_len</th>\n",
       "      <th>excl_text</th>\n",
       "      <th>anger</th>\n",
       "      <th>anticipation</th>\n",
       "      <th>disgust</th>\n",
       "      <th>fear</th>\n",
       "      <th>joy</th>\n",
       "      <th>sadness</th>\n",
       "      <th>surprise</th>\n",
       "      <th>trust</th>\n",
       "      <th>negative</th>\n",
       "      <th>positive</th>\n",
       "    </tr>\n",
       "  </thead>\n",
       "  <tbody>\n",
       "    <tr>\n",
       "      <th>0</th>\n",
       "      <td>1</td>\n",
       "      <td>6.0</td>\n",
       "      <td>890.0</td>\n",
       "      <td>0.0</td>\n",
       "      <td>2</td>\n",
       "      <td>2</td>\n",
       "      <td>0</td>\n",
       "      <td>1</td>\n",
       "      <td>2</td>\n",
       "      <td>1</td>\n",
       "      <td>1</td>\n",
       "      <td>4</td>\n",
       "      <td>2</td>\n",
       "      <td>6</td>\n",
       "    </tr>\n",
       "    <tr>\n",
       "      <th>1</th>\n",
       "      <td>1</td>\n",
       "      <td>0.0</td>\n",
       "      <td>1150.0</td>\n",
       "      <td>0.0</td>\n",
       "      <td>2</td>\n",
       "      <td>2</td>\n",
       "      <td>1</td>\n",
       "      <td>1</td>\n",
       "      <td>4</td>\n",
       "      <td>3</td>\n",
       "      <td>2</td>\n",
       "      <td>4</td>\n",
       "      <td>3</td>\n",
       "      <td>9</td>\n",
       "    </tr>\n",
       "    <tr>\n",
       "      <th>2</th>\n",
       "      <td>1</td>\n",
       "      <td>1.0</td>\n",
       "      <td>2601.0</td>\n",
       "      <td>0.0</td>\n",
       "      <td>1</td>\n",
       "      <td>7</td>\n",
       "      <td>0</td>\n",
       "      <td>2</td>\n",
       "      <td>6</td>\n",
       "      <td>3</td>\n",
       "      <td>3</td>\n",
       "      <td>12</td>\n",
       "      <td>5</td>\n",
       "      <td>15</td>\n",
       "    </tr>\n",
       "    <tr>\n",
       "      <th>3</th>\n",
       "      <td>1</td>\n",
       "      <td>12.0</td>\n",
       "      <td>2560.0</td>\n",
       "      <td>0.0</td>\n",
       "      <td>1</td>\n",
       "      <td>5</td>\n",
       "      <td>1</td>\n",
       "      <td>2</td>\n",
       "      <td>3</td>\n",
       "      <td>6</td>\n",
       "      <td>1</td>\n",
       "      <td>10</td>\n",
       "      <td>6</td>\n",
       "      <td>14</td>\n",
       "    </tr>\n",
       "    <tr>\n",
       "      <th>4</th>\n",
       "      <td>1</td>\n",
       "      <td>1.0</td>\n",
       "      <td>1582.0</td>\n",
       "      <td>0.0</td>\n",
       "      <td>0</td>\n",
       "      <td>10</td>\n",
       "      <td>1</td>\n",
       "      <td>1</td>\n",
       "      <td>5</td>\n",
       "      <td>0</td>\n",
       "      <td>3</td>\n",
       "      <td>8</td>\n",
       "      <td>2</td>\n",
       "      <td>18</td>\n",
       "    </tr>\n",
       "  </tbody>\n",
       "</table>\n",
       "</div>"
      ],
      "text/plain": [
       "  type  caps_text  text_len  excl_text  anger  anticipation  disgust  fear  \\\n",
       "0    1        6.0     890.0        0.0      2             2        0     1   \n",
       "1    1        0.0    1150.0        0.0      2             2        1     1   \n",
       "2    1        1.0    2601.0        0.0      1             7        0     2   \n",
       "3    1       12.0    2560.0        0.0      1             5        1     2   \n",
       "4    1        1.0    1582.0        0.0      0            10        1     1   \n",
       "\n",
       "   joy  sadness  surprise  trust  negative  positive  \n",
       "0    2        1         1      4         2         6  \n",
       "1    4        3         2      4         3         9  \n",
       "2    6        3         3     12         5        15  \n",
       "3    3        6         1     10         6        14  \n",
       "4    5        0         3      8         2        18  "
      ]
     },
     "execution_count": 6,
     "metadata": {},
     "output_type": "execute_result"
    }
   ],
   "source": [
    "data.head()"
   ]
  },
  {
   "cell_type": "code",
   "execution_count": 7,
   "metadata": {},
   "outputs": [
    {
     "data": {
      "text/html": [
       "<div>\n",
       "<table border=\"1\" class=\"dataframe\">\n",
       "  <thead>\n",
       "    <tr style=\"text-align: right;\">\n",
       "      <th></th>\n",
       "      <th>N</th>\n",
       "    </tr>\n",
       "    <tr>\n",
       "      <th>type</th>\n",
       "      <th></th>\n",
       "    </tr>\n",
       "  </thead>\n",
       "  <tbody>\n",
       "    <tr>\n",
       "      <th>bs</th>\n",
       "      <td>10900</td>\n",
       "    </tr>\n",
       "    <tr>\n",
       "      <th>1</th>\n",
       "      <td>1313</td>\n",
       "    </tr>\n",
       "    <tr>\n",
       "      <th>bias</th>\n",
       "      <td>443</td>\n",
       "    </tr>\n",
       "    <tr>\n",
       "      <th>conspiracy</th>\n",
       "      <td>430</td>\n",
       "    </tr>\n",
       "    <tr>\n",
       "      <th>hate</th>\n",
       "      <td>243</td>\n",
       "    </tr>\n",
       "    <tr>\n",
       "      <th>satire</th>\n",
       "      <td>146</td>\n",
       "    </tr>\n",
       "    <tr>\n",
       "      <th>state</th>\n",
       "      <td>120</td>\n",
       "    </tr>\n",
       "    <tr>\n",
       "      <th>junksci</th>\n",
       "      <td>102</td>\n",
       "    </tr>\n",
       "    <tr>\n",
       "      <th>fake</th>\n",
       "      <td>19</td>\n",
       "    </tr>\n",
       "  </tbody>\n",
       "</table>\n",
       "</div>"
      ],
      "text/plain": [
       "                N\n",
       "type             \n",
       "bs          10900\n",
       "1            1313\n",
       "bias          443\n",
       "conspiracy    430\n",
       "hate          243\n",
       "satire        146\n",
       "state         120\n",
       "junksci       102\n",
       "fake           19"
      ]
     },
     "execution_count": 7,
     "metadata": {},
     "output_type": "execute_result"
    }
   ],
   "source": [
    "# Label balancing\n",
    "data_count = data.groupby(by=[u'type'], as_index=True)\\\n",
    ".agg({u'type' : 'count'})\\\n",
    ".rename(columns={u'type' : 'N'})\\\n",
    ".sort_values(\"N\",ascending = False)\n",
    "data_count"
   ]
  },
  {
   "cell_type": "code",
   "execution_count": 8,
   "metadata": {},
   "outputs": [
    {
     "data": {
      "text/html": [
       "<div>\n",
       "<table border=\"1\" class=\"dataframe\">\n",
       "  <thead>\n",
       "    <tr style=\"text-align: right;\">\n",
       "      <th></th>\n",
       "      <th>N</th>\n",
       "    </tr>\n",
       "    <tr>\n",
       "      <th>Rating</th>\n",
       "      <th></th>\n",
       "    </tr>\n",
       "  </thead>\n",
       "  <tbody>\n",
       "    <tr>\n",
       "      <th>mostly true</th>\n",
       "      <td>1669</td>\n",
       "    </tr>\n",
       "    <tr>\n",
       "      <th>no factual content</th>\n",
       "      <td>264</td>\n",
       "    </tr>\n",
       "    <tr>\n",
       "      <th>mixture of true and false</th>\n",
       "      <td>245</td>\n",
       "    </tr>\n",
       "    <tr>\n",
       "      <th>mostly false</th>\n",
       "      <td>104</td>\n",
       "    </tr>\n",
       "  </tbody>\n",
       "</table>\n",
       "</div>"
      ],
      "text/plain": [
       "                              N\n",
       "Rating                         \n",
       "mostly true                1669\n",
       "no factual content          264\n",
       "mixture of true and false   245\n",
       "mostly false                104"
      ]
     },
     "execution_count": 8,
     "metadata": {},
     "output_type": "execute_result"
    }
   ],
   "source": [
    "# Label balancing\n",
    "posts_count = posts.groupby(by=[u'Rating'], as_index=True)\\\n",
    ".agg({u'Rating' : 'count'})\\\n",
    ".rename(columns={u'Rating' : 'N'})\\\n",
    ".sort_values(\"N\",ascending = False)\n",
    "posts_count"
   ]
  },
  {
   "cell_type": "code",
   "execution_count": 9,
   "metadata": {},
   "outputs": [
    {
     "data": {
      "text/plain": [
       "2058"
      ]
     },
     "execution_count": 9,
     "metadata": {},
     "output_type": "execute_result"
    }
   ],
   "source": [
    "np.sum(np.sum(posts.isnull()))"
   ]
  },
  {
   "cell_type": "code",
   "execution_count": 10,
   "metadata": {},
   "outputs": [
    {
     "data": {
      "text/plain": [
       "1984"
      ]
     },
     "execution_count": 10,
     "metadata": {},
     "output_type": "execute_result"
    }
   ],
   "source": [
    "np.sum(np.sum(posts.loc[:,u'Debate'].isnull()))"
   ]
  },
  {
   "cell_type": "code",
   "execution_count": 11,
   "metadata": {},
   "outputs": [
    {
     "data": {
      "text/plain": [
       "70"
      ]
     },
     "execution_count": 11,
     "metadata": {},
     "output_type": "execute_result"
    }
   ],
   "source": [
    "np.sum(np.sum(posts.loc[:,u'share_count'].isnull()))"
   ]
  },
  {
   "cell_type": "code",
   "execution_count": 12,
   "metadata": {},
   "outputs": [
    {
     "data": {
      "text/plain": [
       "2"
      ]
     },
     "execution_count": 12,
     "metadata": {},
     "output_type": "execute_result"
    }
   ],
   "source": [
    "np.sum(np.sum(posts.loc[:,u'reaction_count'].isnull()))"
   ]
  },
  {
   "cell_type": "code",
   "execution_count": 13,
   "metadata": {},
   "outputs": [
    {
     "data": {
      "text/plain": [
       "2"
      ]
     },
     "execution_count": 13,
     "metadata": {},
     "output_type": "execute_result"
    }
   ],
   "source": [
    "np.sum(np.sum(posts.loc[:,u'comment_count'].isnull()))"
   ]
  },
  {
   "cell_type": "code",
   "execution_count": 14,
   "metadata": {},
   "outputs": [
    {
     "data": {
      "text/plain": [
       "(292, 12)"
      ]
     },
     "execution_count": 14,
     "metadata": {},
     "output_type": "execute_result"
    }
   ],
   "source": [
    "posts.dropna().shape"
   ]
  },
  {
   "cell_type": "code",
   "execution_count": 15,
   "metadata": {},
   "outputs": [
    {
     "data": {
      "text/html": [
       "<div>\n",
       "<table border=\"1\" class=\"dataframe\">\n",
       "  <thead>\n",
       "    <tr style=\"text-align: right;\">\n",
       "      <th></th>\n",
       "      <th>account_id</th>\n",
       "      <th>post_id</th>\n",
       "      <th>share_count</th>\n",
       "      <th>reaction_count</th>\n",
       "      <th>comment_count</th>\n",
       "    </tr>\n",
       "  </thead>\n",
       "  <tbody>\n",
       "    <tr>\n",
       "      <th>count</th>\n",
       "      <td>2.282000e+03</td>\n",
       "      <td>2.282000e+03</td>\n",
       "      <td>2.212000e+03</td>\n",
       "      <td>2280.000000</td>\n",
       "      <td>2280.000000</td>\n",
       "    </tr>\n",
       "    <tr>\n",
       "      <th>mean</th>\n",
       "      <td>1.867111e+14</td>\n",
       "      <td>3.299586e+15</td>\n",
       "      <td>4.044816e+03</td>\n",
       "      <td>5364.284649</td>\n",
       "      <td>516.102193</td>\n",
       "    </tr>\n",
       "    <tr>\n",
       "      <th>std</th>\n",
       "      <td>1.393826e+14</td>\n",
       "      <td>3.808724e+15</td>\n",
       "      <td>2.983192e+04</td>\n",
       "      <td>19126.544561</td>\n",
       "      <td>3569.355445</td>\n",
       "    </tr>\n",
       "    <tr>\n",
       "      <th>min</th>\n",
       "      <td>6.231759e+10</td>\n",
       "      <td>5.510967e+14</td>\n",
       "      <td>1.000000e+00</td>\n",
       "      <td>2.000000</td>\n",
       "      <td>0.000000</td>\n",
       "    </tr>\n",
       "    <tr>\n",
       "      <th>25%</th>\n",
       "      <td>1.145179e+14</td>\n",
       "      <td>1.247441e+15</td>\n",
       "      <td>2.400000e+01</td>\n",
       "      <td>149.000000</td>\n",
       "      <td>37.000000</td>\n",
       "    </tr>\n",
       "    <tr>\n",
       "      <th>50%</th>\n",
       "      <td>1.840966e+14</td>\n",
       "      <td>1.290536e+15</td>\n",
       "      <td>9.600000e+01</td>\n",
       "      <td>545.500000</td>\n",
       "      <td>131.500000</td>\n",
       "    </tr>\n",
       "    <tr>\n",
       "      <th>75%</th>\n",
       "      <td>3.469371e+14</td>\n",
       "      <td>1.540752e+15</td>\n",
       "      <td>7.390000e+02</td>\n",
       "      <td>2416.750000</td>\n",
       "      <td>390.250000</td>\n",
       "    </tr>\n",
       "    <tr>\n",
       "      <th>max</th>\n",
       "      <td>4.401065e+14</td>\n",
       "      <td>1.015386e+16</td>\n",
       "      <td>1.088995e+06</td>\n",
       "      <td>456458.000000</td>\n",
       "      <td>159047.000000</td>\n",
       "    </tr>\n",
       "  </tbody>\n",
       "</table>\n",
       "</div>"
      ],
      "text/plain": [
       "         account_id       post_id   share_count  reaction_count  comment_count\n",
       "count  2.282000e+03  2.282000e+03  2.212000e+03     2280.000000    2280.000000\n",
       "mean   1.867111e+14  3.299586e+15  4.044816e+03     5364.284649     516.102193\n",
       "std    1.393826e+14  3.808724e+15  2.983192e+04    19126.544561    3569.355445\n",
       "min    6.231759e+10  5.510967e+14  1.000000e+00        2.000000       0.000000\n",
       "25%    1.145179e+14  1.247441e+15  2.400000e+01      149.000000      37.000000\n",
       "50%    1.840966e+14  1.290536e+15  9.600000e+01      545.500000     131.500000\n",
       "75%    3.469371e+14  1.540752e+15  7.390000e+02     2416.750000     390.250000\n",
       "max    4.401065e+14  1.015386e+16  1.088995e+06   456458.000000  159047.000000"
      ]
     },
     "execution_count": 15,
     "metadata": {},
     "output_type": "execute_result"
    }
   ],
   "source": [
    "posts.describe()"
   ]
  },
  {
   "cell_type": "code",
   "execution_count": 16,
   "metadata": {},
   "outputs": [
    {
     "name": "stdout",
     "output_type": "stream",
     "text": [
      "...done in 0.4 s....\n"
     ]
    },
    {
     "data": {
      "image/png": "[encoded data removed]",
      "text/plain": [
       "<matplotlib.figure.Figure at 0x113b63e50>"
      ]
     },
     "metadata": {},
     "output_type": "display_data"
    }
   ],
   "source": [
    "median = np.median(posts.loc[:,u'reaction_count'].dropna())\n",
    "startTime = time.time()\n",
    "fig=plt.figure()\n",
    "plt.title(u\"Distribution of 'reaction_count'\")\n",
    "plt.ylabel(u'Density')\n",
    "plt.xlabel(\"reaction_count (median {:0.0f})\".format(median))\n",
    "bins = np.linspace(0, 800, 50)\n",
    "plt.hist(posts[u'reaction_count'], bins, normed=True, facecolor='g', alpha=0.5)\n",
    "plt.grid()\n",
    "print(\"...done in %0.1f s....\" % (time.time() - startTime)) "
   ]
  },
  {
   "cell_type": "code",
   "execution_count": 17,
   "metadata": {},
   "outputs": [
    {
     "name": "stdout",
     "output_type": "stream",
     "text": [
      "...done in 0.4 s....\n"
     ]
    },
    {
     "data": {
      "image/png": "[encoded data removed]",
      "text/plain": [
       "<matplotlib.figure.Figure at 0x116a1ac90>"
      ]
     },
     "metadata": {},
     "output_type": "display_data"
    }
   ],
   "source": [
    "median = np.median(posts.loc[:,u'share_count'].dropna())\n",
    "startTime = time.time()\n",
    "fig=plt.figure()\n",
    "plt.title(u\"Distribution of 'share_count'\")\n",
    "plt.ylabel(u'Density')\n",
    "plt.xlabel(\"share_count (median {:0.0f})\".format(median))\n",
    "bins = np.linspace(0, 200, 50)\n",
    "plt.hist(posts[u'share_count'], bins, normed=True, facecolor='g', alpha=0.5)\n",
    "plt.grid()\n",
    "print(\"...done in %0.1f s....\" % (time.time() - startTime)) "
   ]
  },
  {
   "cell_type": "code",
   "execution_count": 18,
   "metadata": {},
   "outputs": [
    {
     "name": "stdout",
     "output_type": "stream",
     "text": [
      "...done in 0.3 s....\n"
     ]
    },
    {
     "data": {
      "image/png": "[encoded data removed]",
      "text/plain": [
       "<matplotlib.figure.Figure at 0x11418ca90>"
      ]
     },
     "metadata": {},
     "output_type": "display_data"
    }
   ],
   "source": [
    "median = np.median(posts.loc[:,u'comment_count'].dropna())\n",
    "startTime = time.time()\n",
    "fig=plt.figure()\n",
    "plt.title(u\"Distribution of 'comment_count'\")\n",
    "plt.ylabel(u'Density')\n",
    "plt.xlabel(\"comment_count (median {:0.0f})\".format(median))\n",
    "bins = np.linspace(0, 200, 50)\n",
    "plt.hist(posts[u'comment_count'], bins, normed=True, facecolor='g', alpha=0.5)\n",
    "plt.grid()\n",
    "print(\"...done in %0.1f s....\" % (time.time() - startTime)) "
   ]
  },
  {
   "cell_type": "markdown",
   "metadata": {},
   "source": [
    "# Preparing data "
   ]
  },
  {
   "cell_type": "code",
   "execution_count": 19,
   "metadata": {},
   "outputs": [
    {
     "name": "stdout",
     "output_type": "stream",
     "text": [
      "Number of remaining occurences with at least 1 Nan :45 \n",
      "Shape of non null data (1977, 4)\n"
     ]
    },
    {
     "name": "stderr",
     "output_type": "stream",
     "text": [
      "/anaconda/lib/python2.7/site-packages/ipykernel/__main__.py:4: SettingWithCopyWarning: \n",
      "A value is trying to be set on a copy of a slice from a DataFrame.\n",
      "Try using .loc[row_indexer,col_indexer] = value instead\n",
      "\n",
      "See the caveats in the documentation: http://pandas.pydata.org/pandas-docs/stable/indexing.html#indexing-view-versus-copy\n",
      "//anaconda/lib/python2.7/site-packages/pandas/core/indexing.py:461: SettingWithCopyWarning: \n",
      "A value is trying to be set on a copy of a slice from a DataFrame.\n",
      "Try using .loc[row_indexer,col_indexer] = value instead\n",
      "\n",
      "See the caveats in the documentation: http://pandas.pydata.org/pandas-docs/stable/indexing.html#indexing-view-versus-copy\n",
      "  self.obj[item] = s\n"
     ]
    },
    {
     "data": {
      "text/html": [
       "<div>\n",
       "<table border=\"1\" class=\"dataframe\">\n",
       "  <thead>\n",
       "    <tr style=\"text-align: right;\">\n",
       "      <th></th>\n",
       "      <th>N</th>\n",
       "    </tr>\n",
       "    <tr>\n",
       "      <th>label</th>\n",
       "      <th></th>\n",
       "    </tr>\n",
       "  </thead>\n",
       "  <tbody>\n",
       "    <tr>\n",
       "      <th>0</th>\n",
       "      <td>1633</td>\n",
       "    </tr>\n",
       "    <tr>\n",
       "      <th>1</th>\n",
       "      <td>344</td>\n",
       "    </tr>\n",
       "  </tbody>\n",
       "</table>\n",
       "</div>"
      ],
      "text/plain": [
       "          N\n",
       "label      \n",
       "0      1633\n",
       "1       344"
      ]
     },
     "execution_count": 19,
     "metadata": {},
     "output_type": "execute_result"
    }
   ],
   "source": [
    "# Supression of row with \"no factual content\"\n",
    "data = posts.loc[posts[u'Rating']<>\"no factual content\",:]\n",
    "# Buildind new label with 2 categories 0 & 1 (1 meaning potential fake...)\n",
    "data[\"label\"] = 1\n",
    "data.loc[data[u'Rating']=='mostly true','label'] = 0\n",
    "# dropping other columns\n",
    "data = data.loc[:,[u'share_count',u'reaction_count', u'comment_count', u'label']]\n",
    "print(\"Number of remaining occurences with at least 1 Nan :%i \" % np.sum(np.sum(data.isnull())))\n",
    "# Supression of row having at least one null value\n",
    "data = data.dropna()\n",
    "print(\"Shape of non null data\"),\n",
    "print data.shape\n",
    "# Label balancing\n",
    "balancing = data.groupby(by=[u'label'], as_index=True)\\\n",
    ".agg({u'label' : 'count'})\\\n",
    ".rename(columns={u'label' : 'N'})\\\n",
    ".sort_values(\"N\",ascending = False)\n",
    "balancing"
   ]
  },
  {
   "cell_type": "markdown",
   "metadata": {},
   "source": [
    "rebalancing of categories will be needed during training..."
   ]
  },
  {
   "cell_type": "code",
   "execution_count": 20,
   "metadata": {
    "collapsed": true
   },
   "outputs": [],
   "source": [
    "X = data.loc[:,[u'share_count', u'reaction_count', u'comment_count']]\n",
    "y = data.loc[:,[u'label']]"
   ]
  },
  {
   "cell_type": "code",
   "execution_count": 21,
   "metadata": {
    "collapsed": true
   },
   "outputs": [],
   "source": [
    "X_train, X_test, y_train, y_test = train_test_split(X, y, test_size=0.33, random_state=42)"
   ]
  },
  {
   "cell_type": "code",
   "execution_count": 22,
   "metadata": {},
   "outputs": [
    {
     "name": "stdout",
     "output_type": "stream",
     "text": [
      "Number exemple: \n",
      "- training set: 1324\n",
      "- test set: 653\n",
      "Number of features: p=3\n"
     ]
    }
   ],
   "source": [
    "# data normalisation\n",
    "scaler = StandardScaler().fit(X_train)\n",
    "X_train = scaler.transform(X_train)\n",
    "X_test = scaler.transform(X_test)\n",
    "print \"Number exemple: \\n- training set: {}\\n- test set: {}\".format(y_train.shape[0],y_test.shape[0])\n",
    "print \"Number of features: p={}\".format(X_train.shape[1])"
   ]
  },
  {
   "cell_type": "code",
   "execution_count": 23,
   "metadata": {},
   "outputs": [
    {
     "data": {
      "text/html": [
       "<div>\n",
       "<table border=\"1\" class=\"dataframe\">\n",
       "  <thead>\n",
       "    <tr style=\"text-align: right;\">\n",
       "      <th></th>\n",
       "      <th>N</th>\n",
       "    </tr>\n",
       "    <tr>\n",
       "      <th>label</th>\n",
       "      <th></th>\n",
       "    </tr>\n",
       "  </thead>\n",
       "  <tbody>\n",
       "    <tr>\n",
       "      <th>0</th>\n",
       "      <td>1095</td>\n",
       "    </tr>\n",
       "    <tr>\n",
       "      <th>1</th>\n",
       "      <td>229</td>\n",
       "    </tr>\n",
       "  </tbody>\n",
       "</table>\n",
       "</div>"
      ],
      "text/plain": [
       "          N\n",
       "label      \n",
       "0      1095\n",
       "1       229"
      ]
     },
     "execution_count": 23,
     "metadata": {},
     "output_type": "execute_result"
    }
   ],
   "source": [
    "balancing = y_train.groupby(by=[u'label'], as_index=True)\\\n",
    ".agg({u'label' : 'count'})\\\n",
    ".rename(columns={u'label' : 'N'})\\\n",
    ".sort_values(\"N\",ascending = False)\n",
    "balancing"
   ]
  },
  {
   "cell_type": "code",
   "execution_count": 24,
   "metadata": {},
   "outputs": [
    {
     "name": "stderr",
     "output_type": "stream",
     "text": [
      "//anaconda/lib/python2.7/site-packages/sklearn/utils/validation.py:515: DataConversionWarning: A column-vector y was passed when a 1d array was expected. Please change the shape of y to (n_samples, ), for example using ravel().\n",
      "  y = column_or_1d(y, warn=True)\n"
     ]
    }
   ],
   "source": [
    "from sklearn.linear_model import LogisticRegression\n",
    "clf = LogisticRegression(class_weight='balanced')\n",
    "clf.fit(X_train,y_train)\n",
    "y_pred = clf.predict(X_test)"
   ]
  },
  {
   "cell_type": "code",
   "execution_count": 25,
   "metadata": {},
   "outputs": [
    {
     "data": {
      "text/plain": [
       "0.74119448698315471"
      ]
     },
     "execution_count": 25,
     "metadata": {},
     "output_type": "execute_result"
    }
   ],
   "source": [
    "clf.score(X_test,y_test)"
   ]
  },
  {
   "cell_type": "code",
   "execution_count": 26,
   "metadata": {
    "collapsed": true
   },
   "outputs": [],
   "source": [
    "from sklearn.metrics import confusion_matrix"
   ]
  },
  {
   "cell_type": "code",
   "execution_count": 27,
   "metadata": {
    "collapsed": true
   },
   "outputs": [],
   "source": [
    "import itertools\n",
    "def plot_confusion_matrix(cm, classes,\n",
    "                          normalize=False,\n",
    "                          title='Confusion matrix',\n",
    "                          cmap=plt.cm.Blues):\n",
    "    \"\"\"\n",
    "    This function prints and plots the confusion matrix.\n",
    "    Normalization can be applied by setting `normalize=True`.\n",
    "    \"\"\"\n",
    "    plt.imshow(cm, interpolation='nearest', cmap=cmap)\n",
    "    plt.title(title)\n",
    "    plt.colorbar()\n",
    "    tick_marks = np.arange(len(classes))\n",
    "    plt.xticks(tick_marks, classes, rotation=45)\n",
    "    plt.yticks(tick_marks, classes)\n",
    "\n",
    "    if normalize:\n",
    "        cm = cm.astype('float') / cm.sum(axis=1)[:, np.newaxis]\n",
    "        print(\"Normalized confusion matrix\")\n",
    "    else:\n",
    "        print('Confusion matrix, without normalization')\n",
    "\n",
    "    print(cm)\n",
    "\n",
    "    thresh = cm.max() / 2.\n",
    "    for i, j in itertools.product(range(cm.shape[0]), range(cm.shape[1])):\n",
    "        plt.text(j, i, cm[i, j],\n",
    "                 horizontalalignment=\"center\",\n",
    "                 color=\"white\" if cm[i, j] > thresh else \"black\")\n",
    "\n",
    "    plt.tight_layout()\n",
    "    plt.ylabel('True label')\n",
    "    plt.xlabel('Predicted label')\n"
   ]
  },
  {
   "cell_type": "code",
   "execution_count": 28,
   "metadata": {},
   "outputs": [
    {
     "name": "stdout",
     "output_type": "stream",
     "text": [
      "Confusion matrix, without normalization\n",
      "[[444  94]\n",
      " [ 75  40]]\n",
      "Normalized confusion matrix\n",
      "[[ 0.83  0.17]\n",
      " [ 0.65  0.35]]\n"
     ]
    },
    {
     "data": {
      "image/png": "[encoded data removed]",
      "text/plain": [
       "<matplotlib.figure.Figure at 0x1174f5fd0>"
      ]
     },
     "metadata": {},
     "output_type": "display_data"
    },
    {
     "data": {
      "image/png": "[encoded data removed]",
      "text/plain": [
       "<matplotlib.figure.Figure at 0x11704a910>"
      ]
     },
     "metadata": {},
     "output_type": "display_data"
    }
   ],
   "source": [
    "# Compute confusion matrix\n",
    "y_pred = clf.predict(X_test)\n",
    "cnf_matrix = confusion_matrix(y_test, y_pred)\n",
    "np.set_printoptions(precision=2)\n",
    "\n",
    "# Plot non-normalized confusion matrix\n",
    "class_names = ['Amlost True','Possibly fake']\n",
    "plt.figure()\n",
    "plot_confusion_matrix(cnf_matrix, classes=class_names,\n",
    "                      title='Confusion matrix, without normalization')\n",
    "\n",
    "# Plot normalized confusion matrix\n",
    "plt.figure()\n",
    "plot_confusion_matrix(cnf_matrix, classes=class_names, normalize=True,\n",
    "                      title='Normalized confusion matrix')\n",
    "\n",
    "plt.show()"
   ]
  },
  {
   "cell_type": "code",
   "execution_count": 29,
   "metadata": {},
   "outputs": [
    {
     "data": {
      "image/png": "[encoded data removed]",
      "text/plain": [
       "<matplotlib.figure.Figure at 0x1175c92d0>"
      ]
     },
     "metadata": {},
     "output_type": "display_data"
    },
    {
     "name": "stdout",
     "output_type": "stream",
     "text": [
      "Determination of optimal hyperparameters in 9.5 s\n",
      "l1 penalty, optimal value : C = 0.0001\n",
      "l2 penalty, optimal value : C = 0.0063\n"
     ]
    }
   ],
   "source": [
    "nb_value = 50 # Number of values to be tested for hyperparameters\n",
    "mean_score_l1 = np.zeros(nb_value)\n",
    "mean_score_l2 = np.zeros(nb_value)\n",
    "C_log = np.logspace(-4,4,nb_value)\n",
    "cv = 3 # V-fold, numbers of fold\n",
    "\n",
    "mean_score_l1 = np.empty(nb_value)\n",
    "std_scores_l1 = np.empty(nb_value)\n",
    "\n",
    "mean_score_l2 = np.empty(nb_value)\n",
    "std_scores_l2 = np.empty(nb_value)\n",
    "\n",
    "np.random.seed(seed=42) \n",
    "\n",
    "startTime = time.time()\n",
    "\n",
    "for i, C in enumerate(C_log):\n",
    "    clf = LogisticRegression(C=C, penalty='l1', tol=0.01, random_state=42, class_weight='balanced')\n",
    "    mean_score_l1[i] = 100*np.mean(1-cross_val_score(clf, X_train, y_train.loc[:,'label'], cv=cv, \n",
    "                                                     scoring='accuracy'))\n",
    "    std_scores_l1[i] = 100*np.std(1-cross_val_score(clf, X_train, y_train.loc[:,'label'], cv=cv, \n",
    "                                                    scoring='accuracy'))    \n",
    "\n",
    "\n",
    "for i, C in enumerate(C_log):\n",
    "    clf = LogisticRegression(C=C, penalty='l2', tol=0.01, random_state=42, class_weight='balanced')\n",
    "    mean_score_l2[i] = 100*np.mean(1-cross_val_score(clf, X_train, y_train.loc[:,'label'], cv=cv, \n",
    "                                                               scoring='accuracy'))\n",
    "    std_scores_l2[i] = 100*np.std(1-cross_val_score(clf, X_train, y_train.loc[:,'label'], cv=cv, \n",
    "                                                             scoring='accuracy'))    \n",
    "\n",
    "\n",
    "    \n",
    "plt.figure()\n",
    "plt.semilogx(C_log,mean_score_l1[:],'r',linewidth=2,label='moyenne (l1)')\n",
    "plt.semilogx(C_log,mean_score_l1[:]-0.5*std_scores_l1[:], 'r--', label=u'+/-0.5 écart type')\n",
    "plt.semilogx(C_log,mean_score_l1[:]+0.5*std_scores_l1[:],'r--')\n",
    "\n",
    "plt.semilogx(C_log,mean_score_l2[:],'g',linewidth=2,label='moyenne (l2)')\n",
    "plt.semilogx(C_log,mean_score_l2[:]-0.5*std_scores_l2[:], 'g--', label=u'+/-0.5 écart type')\n",
    "plt.semilogx(C_log,mean_score_l2[:]+0.5*std_scores_l2[:],'g--')\n",
    "\n",
    "plt.xlabel(u\"Penalization C = 1/lambda\")\n",
    "plt.ylabel(u\"Cross validation error (%)\\n(Average misclassification rate)\")\n",
    "plt.title(u\"Determination of hyperparameter (C)\\nby cross validation \\\n",
    "(V-fold avec V = %s)\" % (cv)) \n",
    "plt.legend(bbox_to_anchor=(1, 1))\n",
    "plt.grid()\n",
    "plt.show()\n",
    "print(\"Determination of optimal hyperparameters in %0.1f s\" % (time.time() - startTime))\n",
    "print(\"l1 penalty, optimal value : C = %0.4f\" % (C_log[np.argmin(mean_score_l1)]))\n",
    "print(\"l2 penalty, optimal value : C = %0.4f\" % (C_log[np.argmin(mean_score_l2)]))"
   ]
  },
  {
   "cell_type": "code",
   "execution_count": 30,
   "metadata": {},
   "outputs": [
    {
     "name": "stderr",
     "output_type": "stream",
     "text": [
      "//anaconda/lib/python2.7/site-packages/sklearn/utils/validation.py:515: DataConversionWarning: A column-vector y was passed when a 1d array was expected. Please change the shape of y to (n_samples, ), for example using ravel().\n",
      "  y = column_or_1d(y, warn=True)\n"
     ]
    },
    {
     "name": "stdout",
     "output_type": "stream",
     "text": [
      "Confusion matrix, without normalization\n",
      "[[445  93]\n",
      " [ 76  39]]\n",
      "Normalized confusion matrix\n",
      "[[ 0.83  0.17]\n",
      " [ 0.66  0.34]]\n"
     ]
    },
    {
     "data": {
      "image/png": "[encoded data removed]",
      "text/plain": [
       "<matplotlib.figure.Figure at 0x118005fd0>"
      ]
     },
     "metadata": {},
     "output_type": "display_data"
    },
    {
     "data": {
      "image/png": "[encoded data removed]",
      "text/plain": [
       "<matplotlib.figure.Figure at 0x114422750>"
      ]
     },
     "metadata": {},
     "output_type": "display_data"
    }
   ],
   "source": [
    "C = 10 #C_log[np.argmin(mean_score_l1)]\n",
    "clf = LogisticRegression(C=C, penalty='l1', tol=0.01, random_state=42, class_weight='balanced')\n",
    "clf.fit(X_train,y_train)\n",
    "\n",
    "# Compute confusion matrix\n",
    "y_pred = clf.predict(X_test)\n",
    "cnf_matrix = confusion_matrix(y_test, y_pred)\n",
    "np.set_printoptions(precision=2)\n",
    "\n",
    "# Plot non-normalized confusion matrix\n",
    "class_names = ['True','Fake']\n",
    "plt.figure()\n",
    "plot_confusion_matrix(cnf_matrix, classes=class_names,\n",
    "                      title='Confusion matrix, without normalization')\n",
    "\n",
    "# Plot normalized confusion matrix\n",
    "plt.figure()\n",
    "plot_confusion_matrix(cnf_matrix, classes=class_names, normalize=True,\n",
    "                      title='Normalized confusion matrix')\n",
    "\n",
    "plt.show()"
   ]
  },
  {
   "cell_type": "code",
   "execution_count": null,
   "metadata": {
    "collapsed": true
   },
   "outputs": [],
   "source": []
  },
  {
   "cell_type": "code",
   "execution_count": 31,
   "metadata": {},
   "outputs": [
    {
     "data": {
      "image/png": "[encoded data removed]",
      "text/plain": [
       "<matplotlib.figure.Figure at 0x118195c50>"
      ]
     },
     "metadata": {},
     "output_type": "display_data"
    },
    {
     "name": "stdout",
     "output_type": "stream",
     "text": [
      "Détermination du paramètre optimal en 3.2 seconds \n",
      "Profondeur optimale de l'arbre: max_depth = 20 \n"
     ]
    }
   ],
   "source": [
    "from sklearn.tree import DecisionTreeClassifier\n",
    "\n",
    "# Plage étudiée de k=1 à k=n_neighbors_max\n",
    "max_depth_max = 30\n",
    "# V-fold, nombre de fold\n",
    "cv = 6\n",
    "mean_scores = np.empty(max_depth_max)\n",
    "std_scores = np.empty(max_depth_max)\n",
    "np.random.seed(seed=42) \n",
    "startTime = time.time()\n",
    "for max_depth in range(1,max_depth_max+1):\n",
    "    clf = DecisionTreeClassifier(max_depth=max_depth,class_weight='balanced')\n",
    "    mean_scores[max_depth-1] = 100*np.mean(1-cross_val_score(clf, X_train, y_train.loc[:,'label'], cv=cv, \n",
    "                                                             scoring='accuracy'))\n",
    "    std_scores[max_depth-1] = 100*np.std(1-cross_val_score(clf, X_train, y_train.loc[:,'label'], cv=cv, \n",
    "                                                           scoring='accuracy'))\n",
    "plt.figure()\n",
    "x=range(1,max_depth_max+1)\n",
    "plt.plot(x,mean_scores[:],'r',linewidth=2,label='moyenne')\n",
    "plt.plot(x,mean_scores[:]-0.5*std_scores[:], 'r--', label=u'-1/2 écart type')\n",
    "plt.plot(x,mean_scores[:]+0.5*std_scores[:],'r--', label=u'+1/2 écart type')\n",
    "plt.xlabel(u\"Profondeur de l'arbre\")\n",
    "plt.ylabel(u\"Erreur de validation croisée (%)\\n(Taux moyen d'erreur de classification)\")\n",
    "plt.title(u\"Choix de l'hyperparamètre max_depth\\npar validation croisée \\\n",
    "(V-fold avec V = %s)\" % (cv)) \n",
    "plt.legend(bbox_to_anchor=(1, 1))\n",
    "plt.grid()\n",
    "plt.show()\n",
    "\n",
    "print(\"Détermination du paramètre optimal en %0.1f seconds \" % (time.time() - startTime))\n",
    "print(\"Profondeur optimale de l'arbre: max_depth = %i \" % (np.argmin(mean_scores)+1))"
   ]
  },
  {
   "cell_type": "code",
   "execution_count": null,
   "metadata": {},
   "outputs": [
    {
     "name": "stdout",
     "output_type": "stream",
     "text": [
      "Confusion matrix, without normalization\n",
      "[[465  73]\n",
      " [ 76  39]]\n",
      "Normalized confusion matrix\n",
      "[[ 0.86  0.14]\n",
      " [ 0.66  0.34]]\n"
     ]
    },
    {
     "data": {
      "image/png": "[encoded data removed]",
      "text/plain": [
       "<matplotlib.figure.Figure at 0x1171b6610>"
      ]
     },
     "metadata": {},
     "output_type": "display_data"
    },
    {
     "data": {
      "image/png": "[encoded data removed]",
      "text/plain": [
       "<matplotlib.figure.Figure at 0x116f7fb10>"
      ]
     },
     "metadata": {},
     "output_type": "display_data"
    }
   ],
   "source": [
    "clf =  DecisionTreeClassifier(max_depth=20,class_weight='balanced')\n",
    "clf.fit(X_train,y_train)\n",
    "\n",
    "# Compute confusion matrix\n",
    "y_pred = clf.predict(X_test)\n",
    "cnf_matrix = confusion_matrix(y_test, y_pred)\n",
    "np.set_printoptions(precision=2)\n",
    "\n",
    "# Plot non-normalized confusion matrix\n",
    "class_names = ['True','Fake']\n",
    "plt.figure()\n",
    "plot_confusion_matrix(cnf_matrix, classes=class_names,\n",
    "                      title='Confusion matrix, without normalization')\n",
    "\n",
    "# Plot normalized confusion matrix\n",
    "plt.figure()\n",
    "plot_confusion_matrix(cnf_matrix, classes=class_names, normalize=True,\n",
    "                      title='Normalized confusion matrix')\n",
    "\n",
    "plt.show()"
   ]
  },
  {
   "cell_type": "code",
   "execution_count": null,
   "metadata": {},
   "outputs": [],
   "source": [
    "from sklearn.svm import SVC\n",
    "from sklearn.cross_validation import StratifiedShuffleSplit\n",
    "from sklearn.grid_search import GridSearchCV\n",
    "\n",
    "startTime = time.time()\n",
    "C_range = np.logspace(0, 12, num=13, base=2)\n",
    "gamma_range = np.logspace(-8, 4, num=13, base=2)\n",
    "param_grid = dict(gamma=gamma_range, C=C_range)\n",
    "cv = StratifiedShuffleSplit(y_train, n_iter=5, test_size=0.2, random_state=42)\n",
    "grid = GridSearchCV(SVC(class_weight='balanced'), param_grid=param_grid, cv=cv)\n",
    "grid.fit(X_train, y_train.loc[:,'label'])\n",
    "print(\"Détermination des hyperparamètres optimaux en %0.1f s\" % (time.time() - startTime))\n",
    "print(\"Les valeurs optimales sont  %s \\nScore de validation croisée : %0.2f %%\" \\\n",
    "      % (grid.best_params_, 100*grid.best_score_))"
   ]
  },
  {
   "cell_type": "code",
   "execution_count": null,
   "metadata": {},
   "outputs": [],
   "source": [
    "# Re apprentissage sur l'ensemble de jeux de validation avec C optimal\n",
    "clf = SVC(C=grid.best_params_['C'], gamma=grid.best_params_['gamma'],\n",
    "          kernel='rbf', random_state=42,class_weight='balanced').fit(X_train, y_train)\n",
    "clf.fit(X_train,y_train)\n",
    "accuracy = clf.score(X_test,y_test)\n",
    "print(\"Score de généralisation : %0.2f %%\" % (100*accuracy))\n",
    "\n",
    "# Compute confusion matrix\n",
    "y_pred = clf.predict(X_test)\n",
    "cnf_matrix = confusion_matrix(y_test, y_pred)\n",
    "np.set_printoptions(precision=2)\n",
    "\n",
    "# Plot non-normalized confusion matrix\n",
    "class_names = ['True','Fake']\n",
    "plt.figure()\n",
    "plot_confusion_matrix(cnf_matrix, classes=class_names,\n",
    "                      title='Confusion matrix, without normalization')\n",
    "\n",
    "# Plot normalized confusion matrix\n",
    "plt.figure()\n",
    "plot_confusion_matrix(cnf_matrix, classes=class_names, normalize=True,\n",
    "                      title='Normalized confusion matrix')\n",
    "\n",
    "plt.show()"
   ]
  },
  {
   "cell_type": "code",
   "execution_count": null,
   "metadata": {},
   "outputs": [],
   "source": [
    "from sklearn.ensemble import RandomForestClassifier\n",
    "from sklearn.cross_validation import StratifiedShuffleSplit\n",
    "from sklearn.grid_search import GridSearchCV\n",
    "\n",
    "startTime = time.time()\n",
    "max_depth_range = [1,2,5,10,15,20,25,30]\n",
    "n_estimators_range = [1,5,10,20,50,100]\n",
    "param_grid = dict(max_depth=max_depth_range, n_estimators=n_estimators_range)\n",
    "cv = StratifiedShuffleSplit(y_train, n_iter=5, test_size=0.2, random_state=42)\n",
    "grid = GridSearchCV(RandomForestClassifier(class_weight='balanced'), param_grid=param_grid, cv=cv)\n",
    "grid.fit(X_train, y_train.loc[:,'label'])\n",
    "print(\"Détermination des hyperparamètres optimaux en %0.1f s\" % (time.time() - startTime))\n",
    "print(\"Les valeurs optimales sont  %s \\nScore de validation croisée : %0.2f %%\" \\\n",
    "      % (grid.best_params_, 100*grid.best_score_))"
   ]
  },
  {
   "cell_type": "code",
   "execution_count": null,
   "metadata": {},
   "outputs": [],
   "source": [
    "# Re apprentissage sur l'ensemble de jeux de validation avec C optimal\n",
    "clf = RandomForestClassifier(max_depth=grid.best_params_['max_depth'], \n",
    "                             n_estimators=grid.best_params_['n_estimators'],\n",
    "                             random_state=42,class_weight='balanced').fit(X_train, y_train)\n",
    "clf.fit(X_train,y_train)\n",
    "accuracy = clf.score(X_test,y_test)\n",
    "print(\"Score de généralisation : %0.2f %%\" % (100*accuracy))\n",
    "\n",
    "# Compute confusion matrix\n",
    "y_pred = clf.predict(X_test)\n",
    "cnf_matrix = confusion_matrix(y_test, y_pred)\n",
    "np.set_printoptions(precision=2)\n",
    "\n",
    "# Plot non-normalized confusion matrix\n",
    "class_names = ['True','Fake']\n",
    "plt.figure()\n",
    "plot_confusion_matrix(cnf_matrix, classes=class_names,\n",
    "                      title='Confusion matrix, without normalization')\n",
    "\n",
    "# Plot normalized confusion matrix\n",
    "plt.figure()\n",
    "plot_confusion_matrix(cnf_matrix, classes=class_names, normalize=True,\n",
    "                      title='Normalized confusion matrix')\n",
    "\n",
    "plt.show()"
   ]
  },
  {
   "cell_type": "code",
   "execution_count": null,
   "metadata": {
    "collapsed": true
   },
   "outputs": [],
   "source": []
  },
  {
   "cell_type": "code",
   "execution_count": null,
   "metadata": {
    "collapsed": true
   },
   "outputs": [],
   "source": []
  },
  {
   "cell_type": "code",
   "execution_count": null,
   "metadata": {
    "collapsed": true
   },
   "outputs": [],
   "source": []
  }
 ],
 "metadata": {
  "kernelspec": {
   "display_name": "Python 2",
   "language": "python",
   "name": "python2"
  },
  "language_info": {
   "codemirror_mode": {
    "name": "ipython",
    "version": 2
   },
   "file_extension": ".py",
   "mimetype": "text/x-python",
   "name": "python",
   "nbconvert_exporter": "python",
   "pygments_lexer": "ipython2",
   "version": "2.7.11"
  }
 },
 "nbformat": 4,
 "nbformat_minor": 1
}
